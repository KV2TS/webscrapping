{
 "cells": [
  {
   "cell_type": "code",
   "execution_count": 9,
   "id": "956adbd7-30a6-4f36-be64-031d98029a5c",
   "metadata": {},
   "outputs": [],
   "source": [
    "import pandas as pd"
   ]
  },
  {
   "cell_type": "code",
   "execution_count": 10,
   "id": "166cbbaf-81b0-4895-b075-a3705ccc6cc5",
   "metadata": {
    "scrolled": true
   },
   "outputs": [
    {
     "data": {
      "text/html": [
       "<div>\n",
       "<style scoped>\n",
       "    .dataframe tbody tr th:only-of-type {\n",
       "        vertical-align: middle;\n",
       "    }\n",
       "\n",
       "    .dataframe tbody tr th {\n",
       "        vertical-align: top;\n",
       "    }\n",
       "\n",
       "    .dataframe thead th {\n",
       "        text-align: right;\n",
       "    }\n",
       "</style>\n",
       "<table border=\"1\" class=\"dataframe\">\n",
       "  <thead>\n",
       "    <tr style=\"text-align: right;\">\n",
       "      <th></th>\n",
       "      <th>username</th>\n",
       "      <th>title</th>\n",
       "      <th>start</th>\n",
       "      <th>end</th>\n",
       "      <th>com</th>\n",
       "    </tr>\n",
       "  </thead>\n",
       "  <tbody>\n",
       "    <tr>\n",
       "      <th>0</th>\n",
       "      <td>Robert S</td>\n",
       "      <td>Flying the Unfriendly Skies of Air France, and...</td>\n",
       "      <td>Denver</td>\n",
       "      <td>- Stockholm, International]</td>\n",
       "      <td>Where to begin!!!! Denver to Paris flight on A...</td>\n",
       "    </tr>\n",
       "    <tr>\n",
       "      <th>1</th>\n",
       "      <td>Sophia T</td>\n",
       "      <td>Missed connection because of the airline’s fau...</td>\n",
       "      <td>Washington DC</td>\n",
       "      <td>- Porto, International]</td>\n",
       "      <td>My first flight from DC to Paris got delayed b...</td>\n",
       "    </tr>\n",
       "    <tr>\n",
       "      <th>2</th>\n",
       "      <td>Khaoula M</td>\n",
       "      <td>Fantastic Service and Entertainment on My Long...</td>\n",
       "      <td>Tunis</td>\n",
       "      <td>- Miami, International]</td>\n",
       "      <td>I recently flew with Air France from Tunisia t...</td>\n",
       "    </tr>\n",
       "    <tr>\n",
       "      <th>3</th>\n",
       "      <td>Dougie</td>\n",
       "      <td>Disorganised airline]</td>\n",
       "      <td>Edinburgh</td>\n",
       "      <td>- Valletta, Europe]</td>\n",
       "      <td>Rubbish organisation, missed connection due to...</td>\n",
       "    </tr>\n",
       "    <tr>\n",
       "      <th>4</th>\n",
       "      <td>Arash C</td>\n",
       "      <td>Air France Business crew are very rude to othe...</td>\n",
       "      <td>Paris</td>\n",
       "      <td>- Miami, International]</td>\n",
       "      <td>Rude Cabin Chef AF092.Rude Cabin Chef and crew...</td>\n",
       "    </tr>\n",
       "  </tbody>\n",
       "</table>\n",
       "</div>"
      ],
      "text/plain": [
       "    username                                              title  \\\n",
       "0   Robert S  Flying the Unfriendly Skies of Air France, and...   \n",
       "1   Sophia T  Missed connection because of the airline’s fau...   \n",
       "2  Khaoula M  Fantastic Service and Entertainment on My Long...   \n",
       "3     Dougie                              Disorganised airline]   \n",
       "4    Arash C  Air France Business crew are very rude to othe...   \n",
       "\n",
       "           start                          end  \\\n",
       "0         Denver  - Stockholm, International]   \n",
       "1  Washington DC      - Porto, International]   \n",
       "2          Tunis      - Miami, International]   \n",
       "3      Edinburgh          - Valletta, Europe]   \n",
       "4          Paris      - Miami, International]   \n",
       "\n",
       "                                                 com  \n",
       "0  Where to begin!!!! Denver to Paris flight on A...  \n",
       "1  My first flight from DC to Paris got delayed b...  \n",
       "2  I recently flew with Air France from Tunisia t...  \n",
       "3  Rubbish organisation, missed connection due to...  \n",
       "4  Rude Cabin Chef AF092.Rude Cabin Chef and crew...  "
      ]
     },
     "execution_count": 10,
     "metadata": {},
     "output_type": "execute_result"
    }
   ],
   "source": [
    "data = pd.read_csv(\"output.csv\", sep=\",\")\n",
    "data = data.drop(columns=['date', 'likes'])\n",
    "data.head()"
   ]
  },
  {
   "cell_type": "code",
   "execution_count": 13,
   "id": "0af35980-2bd9-4dc2-b719-762e897b0e2d",
   "metadata": {
    "scrolled": true
   },
   "outputs": [
    {
     "name": "stdout",
     "output_type": "stream",
     "text": [
      "Taille de data : 12910\n",
      "Taille de data : 12895\n"
     ]
    }
   ],
   "source": [
    "print(f\"Taille de data : {len(data)}\")\n",
    "data = data.dropna(how='any')\n",
    "print(f\"Taille de data : {len(data)}\")"
   ]
  },
  {
   "cell_type": "code",
   "execution_count": 14,
   "id": "1fe064c7-dd76-4a23-80c7-30eb9991231d",
   "metadata": {},
   "outputs": [
    {
     "data": {
      "text/html": [
       "<div>\n",
       "<style scoped>\n",
       "    .dataframe tbody tr th:only-of-type {\n",
       "        vertical-align: middle;\n",
       "    }\n",
       "\n",
       "    .dataframe tbody tr th {\n",
       "        vertical-align: top;\n",
       "    }\n",
       "\n",
       "    .dataframe thead th {\n",
       "        text-align: right;\n",
       "    }\n",
       "</style>\n",
       "<table border=\"1\" class=\"dataframe\">\n",
       "  <thead>\n",
       "    <tr style=\"text-align: right;\">\n",
       "      <th></th>\n",
       "      <th>username</th>\n",
       "      <th>title</th>\n",
       "      <th>start</th>\n",
       "      <th>end</th>\n",
       "      <th>com</th>\n",
       "      <th>end_</th>\n",
       "    </tr>\n",
       "  </thead>\n",
       "  <tbody>\n",
       "    <tr>\n",
       "      <th>0</th>\n",
       "      <td>Robert S</td>\n",
       "      <td>Flying the Unfriendly Skies of Air France, and...</td>\n",
       "      <td>Denver</td>\n",
       "      <td>- Stockholm, International]</td>\n",
       "      <td>Where to begin!!!! Denver to Paris flight on A...</td>\n",
       "      <td>- Stockholm</td>\n",
       "    </tr>\n",
       "    <tr>\n",
       "      <th>1</th>\n",
       "      <td>Sophia T</td>\n",
       "      <td>Missed connection because of the airline’s fau...</td>\n",
       "      <td>Washington DC</td>\n",
       "      <td>- Porto, International]</td>\n",
       "      <td>My first flight from DC to Paris got delayed b...</td>\n",
       "      <td>- Porto</td>\n",
       "    </tr>\n",
       "    <tr>\n",
       "      <th>2</th>\n",
       "      <td>Khaoula M</td>\n",
       "      <td>Fantastic Service and Entertainment on My Long...</td>\n",
       "      <td>Tunis</td>\n",
       "      <td>- Miami, International]</td>\n",
       "      <td>I recently flew with Air France from Tunisia t...</td>\n",
       "      <td>- Miami</td>\n",
       "    </tr>\n",
       "    <tr>\n",
       "      <th>3</th>\n",
       "      <td>Dougie</td>\n",
       "      <td>Disorganised airline]</td>\n",
       "      <td>Edinburgh</td>\n",
       "      <td>- Valletta, Europe]</td>\n",
       "      <td>Rubbish organisation, missed connection due to...</td>\n",
       "      <td>- Valletta</td>\n",
       "    </tr>\n",
       "    <tr>\n",
       "      <th>4</th>\n",
       "      <td>Arash C</td>\n",
       "      <td>Air France Business crew are very rude to othe...</td>\n",
       "      <td>Paris</td>\n",
       "      <td>- Miami, International]</td>\n",
       "      <td>Rude Cabin Chef AF092.Rude Cabin Chef and crew...</td>\n",
       "      <td>- Miami</td>\n",
       "    </tr>\n",
       "  </tbody>\n",
       "</table>\n",
       "</div>"
      ],
      "text/plain": [
       "    username                                              title  \\\n",
       "0   Robert S  Flying the Unfriendly Skies of Air France, and...   \n",
       "1   Sophia T  Missed connection because of the airline’s fau...   \n",
       "2  Khaoula M  Fantastic Service and Entertainment on My Long...   \n",
       "3     Dougie                              Disorganised airline]   \n",
       "4    Arash C  Air France Business crew are very rude to othe...   \n",
       "\n",
       "           start                          end  \\\n",
       "0         Denver  - Stockholm, International]   \n",
       "1  Washington DC      - Porto, International]   \n",
       "2          Tunis      - Miami, International]   \n",
       "3      Edinburgh          - Valletta, Europe]   \n",
       "4          Paris      - Miami, International]   \n",
       "\n",
       "                                                 com         end_  \n",
       "0  Where to begin!!!! Denver to Paris flight on A...  - Stockholm  \n",
       "1  My first flight from DC to Paris got delayed b...      - Porto  \n",
       "2  I recently flew with Air France from Tunisia t...      - Miami  \n",
       "3  Rubbish organisation, missed connection due to...   - Valletta  \n",
       "4  Rude Cabin Chef AF092.Rude Cabin Chef and crew...      - Miami  "
      ]
     },
     "execution_count": 14,
     "metadata": {},
     "output_type": "execute_result"
    }
   ],
   "source": [
    "data['end_'] = data['end'].apply(lambda x: x.split(',')[0])\n",
    "data = data.drop(columns=['date', 'likes'])\n",
    "data.head()"
   ]
  },
  {
   "cell_type": "code",
   "execution_count": 12,
   "id": "5855f197-be8f-439b-be42-d5bbb1d583f4",
   "metadata": {},
   "outputs": [
    {
     "name": "stdout",
     "output_type": "stream",
     "text": [
      "<class 'pandas.core.frame.DataFrame'>\n",
      "RangeIndex: 12910 entries, 0 to 12909\n",
      "Data columns (total 5 columns):\n",
      " #   Column    Non-Null Count  Dtype \n",
      "---  ------    --------------  ----- \n",
      " 0   username  12910 non-null  object\n",
      " 1   title     12909 non-null  object\n",
      " 2   start     12896 non-null  object\n",
      " 3   end       12896 non-null  object\n",
      " 4   com       12910 non-null  object\n",
      "dtypes: object(5)\n",
      "memory usage: 504.4+ KB\n"
     ]
    }
   ],
   "source": [
    "data.info()"
   ]
  },
  {
   "cell_type": "code",
   "execution_count": null,
   "id": "a68729ee-6127-4660-acc2-727a35c1433d",
   "metadata": {},
   "outputs": [],
   "source": []
  }
 ],
 "metadata": {
  "kernelspec": {
   "display_name": "Python 3 (ipykernel)",
   "language": "python",
   "name": "python3"
  },
  "language_info": {
   "codemirror_mode": {
    "name": "ipython",
    "version": 3
   },
   "file_extension": ".py",
   "mimetype": "text/x-python",
   "name": "python",
   "nbconvert_exporter": "python",
   "pygments_lexer": "ipython3",
   "version": "3.9.20"
  }
 },
 "nbformat": 4,
 "nbformat_minor": 5
}
